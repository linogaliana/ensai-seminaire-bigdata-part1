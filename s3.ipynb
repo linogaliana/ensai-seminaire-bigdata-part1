{
 "cells": [
  {
   "cell_type": "markdown",
   "id": "2cca8e54-d3da-4a0e-bca7-f689477b7bfe",
   "metadata": {},
   "source": [
    "# Stockage compatible S3 avec MinIO"
   ]
  },
  {
   "cell_type": "code",
   "execution_count": 91,
   "id": "aa95c938-7f56-49f5-8749-18a099079bec",
   "metadata": {},
   "outputs": [],
   "source": [
    "import os\n",
    "import io\n",
    "from IPython.display import Image\n",
    "from IPython.core.display import HTML\n",
    "\n",
    "import s3fs\n",
    "import boto3\n",
    "import pandas as pd"
   ]
  },
  {
   "cell_type": "markdown",
   "id": "8a50c037-301f-4cfe-9ab6-57f65e3e54c1",
   "metadata": {},
   "source": [
    "## Architecture"
   ]
  },
  {
   "cell_type": "code",
   "execution_count": 2,
   "id": "84604f83-412d-4c5d-ae50-84cfa9f84a8b",
   "metadata": {},
   "outputs": [
    {
     "data": {
      "text/html": [
       "<img src=\"https://min.io/resources/img/products/encryption-worm.svg\"/>"
      ],
      "text/plain": [
       "<IPython.core.display.Image object>"
      ]
     },
     "execution_count": 2,
     "metadata": {},
     "output_type": "execute_result"
    }
   ],
   "source": [
    "Image(url=\"https://min.io/resources/img/products/encryption-worm.svg\")"
   ]
  },
  {
   "cell_type": "markdown",
   "id": "b2a49b20-59f7-40ad-a870-b8c42d30aa80",
   "metadata": {},
   "source": [
    "## Avantages"
   ]
  },
  {
   "cell_type": "markdown",
   "id": "893dea76-d6c8-49b9-92bf-1151769bbe48",
   "metadata": {},
   "source": [
    "- **Portabilité**\n",
    "- **Autonomie**\n",
    "- **Découplage stockage / moteur de calcul**"
   ]
  },
  {
   "cell_type": "markdown",
   "id": "e71cba4b-987d-48dd-b8b2-4b68d571e956",
   "metadata": {},
   "source": [
    "## Démonstration"
   ]
  },
  {
   "cell_type": "code",
   "execution_count": 3,
   "id": "f824bdb3-04e0-4463-83c9-67bd35caa22f",
   "metadata": {},
   "outputs": [
    {
     "name": "stdout",
     "output_type": "stream",
     "text": [
      "\u001b[m\u001b[32m[2022-02-10 16:50:28 UTC]\u001b[0m\u001b[33m     0B\u001b[0m\u001b[36;1m avouacr/\u001b[0m\n",
      "\u001b[0m\u001b[m\u001b[32m[2022-02-10 16:50:39 UTC]\u001b[0m\u001b[33m     0B\u001b[0m\u001b[36;1m donnees-insee/\u001b[0m\n",
      "\u001b[0m\u001b[m\u001b[32m[2022-02-10 16:51:24 UTC]\u001b[0m\u001b[33m     0B\u001b[0m\u001b[36;1m projet-arc-resil-poc/\u001b[0m\n",
      "\u001b[0m\u001b[m\u001b[32m[2022-02-10 16:51:25 UTC]\u001b[0m\u001b[33m     0B\u001b[0m\u001b[36;1m projet-esane-poc/\u001b[0m\n",
      "\u001b[0m\u001b[m\u001b[32m[2022-02-24 10:30:47 UTC]\u001b[0m\u001b[33m     0B\u001b[0m\u001b[36;1m projet-formation/\u001b[0m\n",
      "\u001b[0m\u001b[m\u001b[32m[2022-02-10 16:51:26 UTC]\u001b[0m\u001b[33m     0B\u001b[0m\u001b[36;1m projet-onyxia/\u001b[0m\n",
      "\u001b[0m\u001b[m\u001b[32m[2022-04-25 09:48:57 UTC]\u001b[0m\u001b[33m     0B\u001b[0m\u001b[36;1m projet-poc-aida/\u001b[0m\n",
      "\u001b[0m\u001b[m\u001b[32m[2022-04-26 16:02:54 UTC]\u001b[0m\u001b[33m     0B\u001b[0m\u001b[36;1m projet-pynsee/\u001b[0m\n",
      "\u001b[0m\u001b[m\u001b[32m[2022-02-10 16:51:27 UTC]\u001b[0m\u001b[33m     0B\u001b[0m\u001b[36;1m projet-relevanc/\u001b[0m\n",
      "\u001b[0m"
     ]
    }
   ],
   "source": [
    "!mc ls s3"
   ]
  },
  {
   "cell_type": "code",
   "execution_count": 4,
   "id": "d3e9ab30-2bf7-40ba-bcee-dcb22e37a2b3",
   "metadata": {},
   "outputs": [
    {
     "name": "stdout",
     "output_type": "stream",
     "text": [
      "\u001b[m\u001b[32m[2022-04-27 08:25:08 UTC]\u001b[0m\u001b[33m  14GiB\u001b[0m\u001b[1m individus.csv\u001b[0m\n",
      "\u001b[0m\u001b[m\u001b[32m[2022-04-27 15:52:45 UTC]\u001b[0m\u001b[33m  28MiB\u001b[0m\u001b[1m sample.csv\u001b[0m\n",
      "\u001b[0m\u001b[m\u001b[32m[2022-04-27 16:11:26 UTC]\u001b[0m\u001b[33m     0B\u001b[0m\u001b[36;1m individus-region-residence.parquet/\u001b[0m\n",
      "\u001b[0m\u001b[m\u001b[32m[2022-04-27 16:11:26 UTC]\u001b[0m\u001b[33m     0B\u001b[0m\u001b[36;1m individus_partition_region/\u001b[0m\n",
      "\u001b[0m\u001b[m\u001b[32m[2022-04-27 16:11:26 UTC]\u001b[0m\u001b[33m     0B\u001b[0m\u001b[36;1m individus_snappy_parquet/\u001b[0m\n",
      "\u001b[0m"
     ]
    }
   ],
   "source": [
    "!mc ls s3/projet-onyxia/demo/rp"
   ]
  },
  {
   "cell_type": "markdown",
   "id": "75950e58-58b9-4639-8864-51d6ca556e5c",
   "metadata": {},
   "source": [
    "### Déclaration du endpoint"
   ]
  },
  {
   "cell_type": "markdown",
   "id": "3ac3224e-181d-4950-9246-241e4fe1f3e1",
   "metadata": {},
   "source": [
    "Les paramètres d'authentification auprès de MinIO sont injectés comme variables d'environnement dans les différents services du Datalab."
   ]
  },
  {
   "cell_type": "code",
   "execution_count": 9,
   "id": "95ce4fcf-885d-4d96-9387-823f046f26c0",
   "metadata": {},
   "outputs": [
    {
     "name": "stdout",
     "output_type": "stream",
     "text": [
      "https://minio.lab.sspcloud.fr\n"
     ]
    }
   ],
   "source": [
    "endpoint_url='https://' + os.environ['AWS_S3_ENDPOINT']\n",
    "print(endpoint_url)"
   ]
  },
  {
   "cell_type": "code",
   "execution_count": null,
   "id": "d617346f-612c-46d5-8d76-cc218cf4adc0",
   "metadata": {},
   "outputs": [],
   "source": [
    "print(os.environ['MC_HOST_s3'])"
   ]
  },
  {
   "cell_type": "markdown",
   "id": "c4c012ca-363c-4dc8-b363-4940b5e76695",
   "metadata": {},
   "source": [
    "### Importer les données en Python"
   ]
  },
  {
   "cell_type": "markdown",
   "id": "b0438fb5-a75f-440e-bc60-952e836596b5",
   "metadata": {},
   "source": [
    "#### Via un service"
   ]
  },
  {
   "cell_type": "code",
   "execution_count": 10,
   "id": "b551fe55-9743-491c-ba6f-44a3350f6acc",
   "metadata": {},
   "outputs": [
    {
     "data": {
      "text/html": [
       "<div>\n",
       "<style scoped>\n",
       "    .dataframe tbody tr th:only-of-type {\n",
       "        vertical-align: middle;\n",
       "    }\n",
       "\n",
       "    .dataframe tbody tr th {\n",
       "        vertical-align: top;\n",
       "    }\n",
       "\n",
       "    .dataframe thead th {\n",
       "        text-align: right;\n",
       "    }\n",
       "</style>\n",
       "<table border=\"1\" class=\"dataframe\">\n",
       "  <thead>\n",
       "    <tr style=\"text-align: right;\">\n",
       "      <th></th>\n",
       "      <th>region_residence</th>\n",
       "      <th>departement_residence</th>\n",
       "      <th>commune_residence</th>\n",
       "      <th>region_travail</th>\n",
       "      <th>departement_travail</th>\n",
       "      <th>commune_travail</th>\n",
       "      <th>commune_anterieure</th>\n",
       "      <th>commune_etude</th>\n",
       "      <th>pays_naissance</th>\n",
       "      <th>poids</th>\n",
       "      <th>...</th>\n",
       "      <th>variable40</th>\n",
       "      <th>variable41</th>\n",
       "      <th>variable42</th>\n",
       "      <th>variable43</th>\n",
       "      <th>variable44</th>\n",
       "      <th>variable45</th>\n",
       "      <th>variable46</th>\n",
       "      <th>variable47</th>\n",
       "      <th>variable48</th>\n",
       "      <th>variable49</th>\n",
       "    </tr>\n",
       "  </thead>\n",
       "  <tbody>\n",
       "    <tr>\n",
       "      <th>0</th>\n",
       "      <td>53</td>\n",
       "      <td>22</td>\n",
       "      <td>22170</td>\n",
       "      <td>53</td>\n",
       "      <td>22</td>\n",
       "      <td>22170</td>\n",
       "      <td>22170</td>\n",
       "      <td>22170</td>\n",
       "      <td>99</td>\n",
       "      <td>1.197605</td>\n",
       "      <td>...</td>\n",
       "      <td>1G</td>\n",
       "      <td>Z</td>\n",
       "      <td>1</td>\n",
       "      <td>0</td>\n",
       "      <td>930660902</td>\n",
       "      <td>1</td>\n",
       "      <td>93066</td>\n",
       "      <td>999</td>\n",
       "      <td>999</td>\n",
       "      <td>6</td>\n",
       "    </tr>\n",
       "    <tr>\n",
       "      <th>1</th>\n",
       "      <td>75</td>\n",
       "      <td>17</td>\n",
       "      <td>17082</td>\n",
       "      <td>27</td>\n",
       "      <td>71</td>\n",
       "      <td>71388</td>\n",
       "      <td>17082</td>\n",
       "      <td>17082</td>\n",
       "      <td>41</td>\n",
       "      <td>1.237221</td>\n",
       "      <td>...</td>\n",
       "      <td>1G</td>\n",
       "      <td>Z</td>\n",
       "      <td>1</td>\n",
       "      <td>0</td>\n",
       "      <td>930660902</td>\n",
       "      <td>1</td>\n",
       "      <td>93066</td>\n",
       "      <td>999</td>\n",
       "      <td>999</td>\n",
       "      <td>6</td>\n",
       "    </tr>\n",
       "    <tr>\n",
       "      <th>2</th>\n",
       "      <td>84</td>\n",
       "      <td>38</td>\n",
       "      <td>38002</td>\n",
       "      <td>84</td>\n",
       "      <td>38</td>\n",
       "      <td>38002</td>\n",
       "      <td>38002</td>\n",
       "      <td>38002</td>\n",
       "      <td>12</td>\n",
       "      <td>0.594802</td>\n",
       "      <td>...</td>\n",
       "      <td>1G</td>\n",
       "      <td>Z</td>\n",
       "      <td>1</td>\n",
       "      <td>0</td>\n",
       "      <td>930660902</td>\n",
       "      <td>1</td>\n",
       "      <td>93066</td>\n",
       "      <td>999</td>\n",
       "      <td>999</td>\n",
       "      <td>6</td>\n",
       "    </tr>\n",
       "    <tr>\n",
       "      <th>3</th>\n",
       "      <td>75</td>\n",
       "      <td>17</td>\n",
       "      <td>17377</td>\n",
       "      <td>75</td>\n",
       "      <td>17</td>\n",
       "      <td>17377</td>\n",
       "      <td>17377</td>\n",
       "      <td>17377</td>\n",
       "      <td>51</td>\n",
       "      <td>1.179806</td>\n",
       "      <td>...</td>\n",
       "      <td>1G</td>\n",
       "      <td>Z</td>\n",
       "      <td>1</td>\n",
       "      <td>0</td>\n",
       "      <td>930660902</td>\n",
       "      <td>1</td>\n",
       "      <td>93066</td>\n",
       "      <td>999</td>\n",
       "      <td>999</td>\n",
       "      <td>6</td>\n",
       "    </tr>\n",
       "    <tr>\n",
       "      <th>4</th>\n",
       "      <td>24</td>\n",
       "      <td>36</td>\n",
       "      <td>36189</td>\n",
       "      <td>84</td>\n",
       "      <td>43</td>\n",
       "      <td>43125</td>\n",
       "      <td>36189</td>\n",
       "      <td>36189</td>\n",
       "      <td>99</td>\n",
       "      <td>0.889843</td>\n",
       "      <td>...</td>\n",
       "      <td>1G</td>\n",
       "      <td>Z</td>\n",
       "      <td>1</td>\n",
       "      <td>0</td>\n",
       "      <td>930660902</td>\n",
       "      <td>1</td>\n",
       "      <td>93066</td>\n",
       "      <td>999</td>\n",
       "      <td>999</td>\n",
       "      <td>6</td>\n",
       "    </tr>\n",
       "  </tbody>\n",
       "</table>\n",
       "<p>5 rows × 66 columns</p>\n",
       "</div>"
      ],
      "text/plain": [
       "   region_residence departement_residence commune_residence  region_travail  \\\n",
       "0                53                    22             22170              53   \n",
       "1                75                    17             17082              27   \n",
       "2                84                    38             38002              84   \n",
       "3                75                    17             17377              75   \n",
       "4                24                    36             36189              84   \n",
       "\n",
       "  departement_travail commune_travail commune_anterieure commune_etude  \\\n",
       "0                  22           22170              22170         22170   \n",
       "1                  71           71388              17082         17082   \n",
       "2                  38           38002              38002         38002   \n",
       "3                  17           17377              17377         17377   \n",
       "4                  43           43125              36189         36189   \n",
       "\n",
       "   pays_naissance     poids  ...  variable40 variable41  variable42  \\\n",
       "0              99  1.197605  ...          1G          Z           1   \n",
       "1              41  1.237221  ...          1G          Z           1   \n",
       "2              12  0.594802  ...          1G          Z           1   \n",
       "3              51  1.179806  ...          1G          Z           1   \n",
       "4              99  0.889843  ...          1G          Z           1   \n",
       "\n",
       "   variable43  variable44  variable45  variable46  variable47  variable48  \\\n",
       "0           0   930660902           1       93066         999         999   \n",
       "1           0   930660902           1       93066         999         999   \n",
       "2           0   930660902           1       93066         999         999   \n",
       "3           0   930660902           1       93066         999         999   \n",
       "4           0   930660902           1       93066         999         999   \n",
       "\n",
       "   variable49  \n",
       "0           6  \n",
       "1           6  \n",
       "2           6  \n",
       "3           6  \n",
       "4           6  \n",
       "\n",
       "[5 rows x 66 columns]"
      ]
     },
     "execution_count": 10,
     "metadata": {},
     "output_type": "execute_result"
    }
   ],
   "source": [
    "fs = s3fs.S3FileSystem(client_kwargs={'endpoint_url': endpoint_url})\n",
    "\n",
    "with fs.open('projet-onyxia/demo/rp/sample.csv','r') as file:\n",
    "    data = pd.read_csv(file, sep=\";\")\n",
    "\n",
    "data.head(5)"
   ]
  },
  {
   "cell_type": "markdown",
   "id": "83ad94be-ad1b-4433-b6cf-0418662346af",
   "metadata": {},
   "source": [
    "#### Via une URL publique"
   ]
  },
  {
   "cell_type": "code",
   "execution_count": 11,
   "id": "34a05b56-4bfa-4878-942a-5fefd4bfecad",
   "metadata": {},
   "outputs": [
    {
     "data": {
      "text/html": [
       "<div>\n",
       "<style scoped>\n",
       "    .dataframe tbody tr th:only-of-type {\n",
       "        vertical-align: middle;\n",
       "    }\n",
       "\n",
       "    .dataframe tbody tr th {\n",
       "        vertical-align: top;\n",
       "    }\n",
       "\n",
       "    .dataframe thead th {\n",
       "        text-align: right;\n",
       "    }\n",
       "</style>\n",
       "<table border=\"1\" class=\"dataframe\">\n",
       "  <thead>\n",
       "    <tr style=\"text-align: right;\">\n",
       "      <th></th>\n",
       "      <th>region_residence</th>\n",
       "      <th>departement_residence</th>\n",
       "      <th>commune_residence</th>\n",
       "      <th>region_travail</th>\n",
       "      <th>departement_travail</th>\n",
       "      <th>commune_travail</th>\n",
       "      <th>commune_anterieure</th>\n",
       "      <th>commune_etude</th>\n",
       "      <th>pays_naissance</th>\n",
       "      <th>poids</th>\n",
       "      <th>...</th>\n",
       "      <th>variable40</th>\n",
       "      <th>variable41</th>\n",
       "      <th>variable42</th>\n",
       "      <th>variable43</th>\n",
       "      <th>variable44</th>\n",
       "      <th>variable45</th>\n",
       "      <th>variable46</th>\n",
       "      <th>variable47</th>\n",
       "      <th>variable48</th>\n",
       "      <th>variable49</th>\n",
       "    </tr>\n",
       "  </thead>\n",
       "  <tbody>\n",
       "    <tr>\n",
       "      <th>0</th>\n",
       "      <td>53</td>\n",
       "      <td>22</td>\n",
       "      <td>22170</td>\n",
       "      <td>53</td>\n",
       "      <td>22</td>\n",
       "      <td>22170</td>\n",
       "      <td>22170</td>\n",
       "      <td>22170</td>\n",
       "      <td>99</td>\n",
       "      <td>1.197605</td>\n",
       "      <td>...</td>\n",
       "      <td>1G</td>\n",
       "      <td>Z</td>\n",
       "      <td>1</td>\n",
       "      <td>0</td>\n",
       "      <td>930660902</td>\n",
       "      <td>1</td>\n",
       "      <td>93066</td>\n",
       "      <td>999</td>\n",
       "      <td>999</td>\n",
       "      <td>6</td>\n",
       "    </tr>\n",
       "    <tr>\n",
       "      <th>1</th>\n",
       "      <td>75</td>\n",
       "      <td>17</td>\n",
       "      <td>17082</td>\n",
       "      <td>27</td>\n",
       "      <td>71</td>\n",
       "      <td>71388</td>\n",
       "      <td>17082</td>\n",
       "      <td>17082</td>\n",
       "      <td>41</td>\n",
       "      <td>1.237221</td>\n",
       "      <td>...</td>\n",
       "      <td>1G</td>\n",
       "      <td>Z</td>\n",
       "      <td>1</td>\n",
       "      <td>0</td>\n",
       "      <td>930660902</td>\n",
       "      <td>1</td>\n",
       "      <td>93066</td>\n",
       "      <td>999</td>\n",
       "      <td>999</td>\n",
       "      <td>6</td>\n",
       "    </tr>\n",
       "    <tr>\n",
       "      <th>2</th>\n",
       "      <td>84</td>\n",
       "      <td>38</td>\n",
       "      <td>38002</td>\n",
       "      <td>84</td>\n",
       "      <td>38</td>\n",
       "      <td>38002</td>\n",
       "      <td>38002</td>\n",
       "      <td>38002</td>\n",
       "      <td>12</td>\n",
       "      <td>0.594802</td>\n",
       "      <td>...</td>\n",
       "      <td>1G</td>\n",
       "      <td>Z</td>\n",
       "      <td>1</td>\n",
       "      <td>0</td>\n",
       "      <td>930660902</td>\n",
       "      <td>1</td>\n",
       "      <td>93066</td>\n",
       "      <td>999</td>\n",
       "      <td>999</td>\n",
       "      <td>6</td>\n",
       "    </tr>\n",
       "    <tr>\n",
       "      <th>3</th>\n",
       "      <td>75</td>\n",
       "      <td>17</td>\n",
       "      <td>17377</td>\n",
       "      <td>75</td>\n",
       "      <td>17</td>\n",
       "      <td>17377</td>\n",
       "      <td>17377</td>\n",
       "      <td>17377</td>\n",
       "      <td>51</td>\n",
       "      <td>1.179806</td>\n",
       "      <td>...</td>\n",
       "      <td>1G</td>\n",
       "      <td>Z</td>\n",
       "      <td>1</td>\n",
       "      <td>0</td>\n",
       "      <td>930660902</td>\n",
       "      <td>1</td>\n",
       "      <td>93066</td>\n",
       "      <td>999</td>\n",
       "      <td>999</td>\n",
       "      <td>6</td>\n",
       "    </tr>\n",
       "    <tr>\n",
       "      <th>4</th>\n",
       "      <td>24</td>\n",
       "      <td>36</td>\n",
       "      <td>36189</td>\n",
       "      <td>84</td>\n",
       "      <td>43</td>\n",
       "      <td>43125</td>\n",
       "      <td>36189</td>\n",
       "      <td>36189</td>\n",
       "      <td>99</td>\n",
       "      <td>0.889843</td>\n",
       "      <td>...</td>\n",
       "      <td>1G</td>\n",
       "      <td>Z</td>\n",
       "      <td>1</td>\n",
       "      <td>0</td>\n",
       "      <td>930660902</td>\n",
       "      <td>1</td>\n",
       "      <td>93066</td>\n",
       "      <td>999</td>\n",
       "      <td>999</td>\n",
       "      <td>6</td>\n",
       "    </tr>\n",
       "  </tbody>\n",
       "</table>\n",
       "<p>5 rows × 66 columns</p>\n",
       "</div>"
      ],
      "text/plain": [
       "   region_residence departement_residence commune_residence  region_travail  \\\n",
       "0                53                    22             22170              53   \n",
       "1                75                    17             17082              27   \n",
       "2                84                    38             38002              84   \n",
       "3                75                    17             17377              75   \n",
       "4                24                    36             36189              84   \n",
       "\n",
       "  departement_travail commune_travail commune_anterieure commune_etude  \\\n",
       "0                  22           22170              22170         22170   \n",
       "1                  71           71388              17082         17082   \n",
       "2                  38           38002              38002         38002   \n",
       "3                  17           17377              17377         17377   \n",
       "4                  43           43125              36189         36189   \n",
       "\n",
       "   pays_naissance     poids  ...  variable40 variable41  variable42  \\\n",
       "0              99  1.197605  ...          1G          Z           1   \n",
       "1              41  1.237221  ...          1G          Z           1   \n",
       "2              12  0.594802  ...          1G          Z           1   \n",
       "3              51  1.179806  ...          1G          Z           1   \n",
       "4              99  0.889843  ...          1G          Z           1   \n",
       "\n",
       "   variable43  variable44  variable45  variable46  variable47  variable48  \\\n",
       "0           0   930660902           1       93066         999         999   \n",
       "1           0   930660902           1       93066         999         999   \n",
       "2           0   930660902           1       93066         999         999   \n",
       "3           0   930660902           1       93066         999         999   \n",
       "4           0   930660902           1       93066         999         999   \n",
       "\n",
       "   variable49  \n",
       "0           6  \n",
       "1           6  \n",
       "2           6  \n",
       "3           6  \n",
       "4           6  \n",
       "\n",
       "[5 rows x 66 columns]"
      ]
     },
     "execution_count": 11,
     "metadata": {},
     "output_type": "execute_result"
    }
   ],
   "source": [
    "URL = \"https://minio.lab.sspcloud.fr/projet-onyxia/demo/rp/sample.csv\"\n",
    "data2 = pd.read_csv(URL, sep=\";\")\n",
    "data2.head(5)"
   ]
  },
  {
   "cell_type": "markdown",
   "id": "976a141d-7617-433e-87e5-8babd6e8a73b",
   "metadata": {},
   "source": [
    "### Quand les données deviennent massives..."
   ]
  },
  {
   "cell_type": "markdown",
   "id": "72e99735-f6c1-4017-ac48-7dc9dadd0fb6",
   "metadata": {},
   "source": [
    "#### Le crash"
   ]
  },
  {
   "cell_type": "code",
   "execution_count": null,
   "id": "51e70ffb-3fd6-4215-8c59-ce6beb04c148",
   "metadata": {},
   "outputs": [],
   "source": [
    "# with fs.open('projet-onyxia/demo/rp/sample.csv','r') as file:\n",
    "#     data = pd.read_csv(file, sep=\";\")"
   ]
  },
  {
   "cell_type": "markdown",
   "id": "d5ff0762-32cb-4820-afec-abb486333cff",
   "metadata": {},
   "source": [
    "#### L'API S3 Select"
   ]
  },
  {
   "cell_type": "code",
   "execution_count": 128,
   "id": "93aee6a9-32f0-43d1-9493-973a0cd6bbb3",
   "metadata": {},
   "outputs": [],
   "source": [
    "s3 = boto3.client('s3', endpoint_url=endpoint_url)\n",
    "\n",
    "QUERY = \"\"\"\n",
    "SELECT s.sexe, s.age, s.diplome, s.commune_residence, s.poids\n",
    "FROM s3object s \n",
    "WHERE s.commune_residence='44109'\n",
    "\"\"\"\n",
    "\n",
    "# QUERY = \"SELECT s.sexe, s.age, s.diplome, s.commune_residence, s.poids FROM s3object s LIMIT 100\"\n",
    "\n",
    "resp = s3.select_object_content(\n",
    "    Bucket='projet-onyxia',\n",
    "    Key='demo/rp/individus.csv',\n",
    "    ExpressionType='SQL',\n",
    "    Expression=QUERY,\n",
    "    InputSerialization = {'CSV': {\"FileHeaderInfo\": \"USE\", \n",
    "                                  'FieldDelimiter': ';'}},\n",
    "    OutputSerialization = {'CSV': {}},\n",
    ")"
   ]
  },
  {
   "cell_type": "code",
   "execution_count": 129,
   "id": "ccba6811-6908-4db5-a10c-5d4cbce62d53",
   "metadata": {},
   "outputs": [],
   "source": [
    "records = []\n",
    "for event in resp['Payload']:\n",
    "    if 'Records' in event:\n",
    "        records.append(event['Records']['Payload'])\n",
    "        \n",
    "file_str = ''.join(r.decode('utf-8') for r in records)\n",
    "data3 = pd.read_csv(io.StringIO(file_str), header=None)\n",
    "data3.columns = [\"sexe\", \"age\", \"diplome\", \"commune_residence\", \"poids\"]"
   ]
  },
  {
   "cell_type": "code",
   "execution_count": 131,
   "id": "2719f596-09e2-49dd-bc20-d697ab01e47f",
   "metadata": {},
   "outputs": [
    {
     "data": {
      "text/html": [
       "<div>\n",
       "<style scoped>\n",
       "    .dataframe tbody tr th:only-of-type {\n",
       "        vertical-align: middle;\n",
       "    }\n",
       "\n",
       "    .dataframe tbody tr th {\n",
       "        vertical-align: top;\n",
       "    }\n",
       "\n",
       "    .dataframe thead th {\n",
       "        text-align: right;\n",
       "    }\n",
       "</style>\n",
       "<table border=\"1\" class=\"dataframe\">\n",
       "  <thead>\n",
       "    <tr style=\"text-align: right;\">\n",
       "      <th></th>\n",
       "      <th>sexe</th>\n",
       "      <th>age</th>\n",
       "      <th>diplome</th>\n",
       "      <th>commune_residence</th>\n",
       "      <th>poids</th>\n",
       "    </tr>\n",
       "  </thead>\n",
       "  <tbody>\n",
       "    <tr>\n",
       "      <th>0</th>\n",
       "      <td>2</td>\n",
       "      <td>9</td>\n",
       "      <td>0</td>\n",
       "      <td>44109</td>\n",
       "      <td>1.113611</td>\n",
       "    </tr>\n",
       "    <tr>\n",
       "      <th>1</th>\n",
       "      <td>2</td>\n",
       "      <td>7</td>\n",
       "      <td>1</td>\n",
       "      <td>44109</td>\n",
       "      <td>0.913017</td>\n",
       "    </tr>\n",
       "    <tr>\n",
       "      <th>2</th>\n",
       "      <td>2</td>\n",
       "      <td>2</td>\n",
       "      <td>7</td>\n",
       "      <td>44109</td>\n",
       "      <td>0.875110</td>\n",
       "    </tr>\n",
       "    <tr>\n",
       "      <th>3</th>\n",
       "      <td>1</td>\n",
       "      <td>2</td>\n",
       "      <td>5</td>\n",
       "      <td>44109</td>\n",
       "      <td>0.588311</td>\n",
       "    </tr>\n",
       "    <tr>\n",
       "      <th>4</th>\n",
       "      <td>2</td>\n",
       "      <td>1</td>\n",
       "      <td>1</td>\n",
       "      <td>44109</td>\n",
       "      <td>0.709778</td>\n",
       "    </tr>\n",
       "  </tbody>\n",
       "</table>\n",
       "</div>"
      ],
      "text/plain": [
       "   sexe  age  diplome  commune_residence     poids\n",
       "0     2    9        0              44109  1.113611\n",
       "1     2    7        1              44109  0.913017\n",
       "2     2    2        7              44109  0.875110\n",
       "3     1    2        5              44109  0.588311\n",
       "4     2    1        1              44109  0.709778"
      ]
     },
     "execution_count": 131,
     "metadata": {},
     "output_type": "execute_result"
    }
   ],
   "source": [
    "data3.head(5)"
   ]
  },
  {
   "cell_type": "code",
   "execution_count": 132,
   "id": "c0eea96e-9aa3-478b-aaa3-0d46f3229427",
   "metadata": {},
   "outputs": [
    {
     "data": {
      "text/plain": [
       "(1415, 5)"
      ]
     },
     "execution_count": 132,
     "metadata": {},
     "output_type": "execute_result"
    }
   ],
   "source": [
    "data3.shape"
   ]
  },
  {
   "cell_type": "markdown",
   "id": "1721f40e-4bb2-4458-8b03-32b334bbcc13",
   "metadata": {},
   "source": [
    "#### Les moteurs de calcul distribué"
   ]
  },
  {
   "cell_type": "markdown",
   "id": "0e66052f-31cb-441a-a555-f1eb8a48c595",
   "metadata": {},
   "source": [
    "- Spark\n",
    "- Trino"
   ]
  },
  {
   "cell_type": "code",
   "execution_count": null,
   "id": "a1375f8c-21c2-4a5e-a56b-6b1af37c5cec",
   "metadata": {},
   "outputs": [],
   "source": []
  }
 ],
 "metadata": {
  "kernelspec": {
   "display_name": "Python 3 (ipykernel)",
   "language": "python",
   "name": "python3"
  },
  "language_info": {
   "codemirror_mode": {
    "name": "ipython",
    "version": 3
   },
   "file_extension": ".py",
   "mimetype": "text/x-python",
   "name": "python",
   "nbconvert_exporter": "python",
   "pygments_lexer": "ipython3",
   "version": "3.9.7"
  }
 },
 "nbformat": 4,
 "nbformat_minor": 5
}
